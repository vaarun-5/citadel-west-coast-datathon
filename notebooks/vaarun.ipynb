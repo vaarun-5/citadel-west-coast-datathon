{
 "cells": [
  {
   "cell_type": "code",
   "execution_count": 46,
   "id": "1693aee0",
   "metadata": {},
   "outputs": [],
   "source": [
    "import matplotlib.pyplot as plt\n",
    "import numpy as np\n",
    "import math\n",
    "import os\n",
    "import pandas as pd\n",
    "import time\n",
    "import seaborn as sns\n",
    "from sklearn import metrics\n",
    "from sklearn.decomposition import PCA\n",
    "from collections import Counter"
   ]
  },
  {
   "cell_type": "code",
   "execution_count": 47,
   "id": "ef326dd4",
   "metadata": {},
   "outputs": [],
   "source": [
    "datasetPath = '../datasets/diabetic_data_initial.csv'\n",
    "idMappingsPath = '../datasets/id_mapping.csv'"
   ]
  },
  {
   "cell_type": "code",
   "execution_count": 48,
   "id": "4a3f2036",
   "metadata": {},
   "outputs": [],
   "source": [
    "data = pd.read_csv(datasetPath)\n",
    "idMappings = pd.read_csv(idMappingsPath)"
   ]
  },
  {
   "cell_type": "code",
   "execution_count": 49,
   "id": "047594c5",
   "metadata": {},
   "outputs": [],
   "source": [
    "replace_age = {'[0-10)' : 5,\n",
    "'[10-20)' : 15,\n",
    "'[20-30)' : 25, \n",
    "'[30-40)' : 35, \n",
    "'[40-50)' : 45, \n",
    "'[50-60)' : 55,\n",
    "'[60-70)' : 65, \n",
    "'[70-80)' : 75,\n",
    "'[80-90)' : 85,\n",
    "'[90-100)' : 95}\n",
    "\n",
    "data['age'] = data['age'].apply(lambda x : replace_age[x])"
   ]
  },
  {
   "cell_type": "code",
   "execution_count": 57,
   "id": "eb5fa120",
   "metadata": {},
   "outputs": [
    {
     "data": {
      "text/plain": [
       "patient_nbr\n",
       "88785891     40\n",
       "43140906     28\n",
       "1660293      23\n",
       "23199021     23\n",
       "88227540     23\n",
       "             ..\n",
       "34935156      1\n",
       "34935795      1\n",
       "34935804      1\n",
       "34937658      1\n",
       "189502619     1\n",
       "Length: 71518, dtype: int64"
      ]
     },
     "execution_count": 57,
     "metadata": {},
     "output_type": "execute_result"
    }
   ],
   "source": [
    "data.dropna(inplace = True)\n",
    "data.groupby('patient_nbr').size().sort_values(ascending=False)"
   ]
  },
  {
   "cell_type": "code",
   "execution_count": 24,
   "id": "4e8834d5",
   "metadata": {},
   "outputs": [
    {
     "data": {
      "text/plain": [
       "['encounter_id',\n",
       " 'patient_nbr',\n",
       " 'race',\n",
       " 'gender',\n",
       " 'age',\n",
       " 'weight',\n",
       " 'admission_type_id',\n",
       " 'discharge_disposition_id',\n",
       " 'admission_source_id',\n",
       " 'time_in_hospital',\n",
       " 'payer_code',\n",
       " 'medical_specialty',\n",
       " 'num_lab_procedures',\n",
       " 'num_procedures',\n",
       " 'num_medications',\n",
       " 'number_outpatient',\n",
       " 'number_emergency',\n",
       " 'number_inpatient',\n",
       " 'diag_1',\n",
       " 'diag_2',\n",
       " 'diag_3',\n",
       " 'number_diagnoses',\n",
       " 'max_glu_serum',\n",
       " 'A1Cresult',\n",
       " 'metformin',\n",
       " 'repaglinide',\n",
       " 'nateglinide',\n",
       " 'chlorpropamide',\n",
       " 'glimepiride',\n",
       " 'acetohexamide',\n",
       " 'glipizide',\n",
       " 'glyburide',\n",
       " 'tolbutamide',\n",
       " 'pioglitazone',\n",
       " 'rosiglitazone',\n",
       " 'acarbose',\n",
       " 'miglitol',\n",
       " 'troglitazone',\n",
       " 'tolazamide',\n",
       " 'examide',\n",
       " 'citoglipton',\n",
       " 'insulin',\n",
       " 'glyburide-metformin',\n",
       " 'glipizide-metformin',\n",
       " 'glimepiride-pioglitazone',\n",
       " 'metformin-rosiglitazone',\n",
       " 'metformin-pioglitazone',\n",
       " 'change',\n",
       " 'diabetesMed',\n",
       " 'readmitted']"
      ]
     },
     "execution_count": 24,
     "metadata": {},
     "output_type": "execute_result"
    }
   ],
   "source": [
    "list(data)"
   ]
  },
  {
   "cell_type": "code",
   "execution_count": 25,
   "id": "1b92f8bc",
   "metadata": {},
   "outputs": [],
   "source": [
    "high_frequency = ['InternalMedicine', 'Family/GeneralPractice', 'Cardiology', 'Surgery-General', 'Orthopedics', 'Orthopedics-Reconstructive', 'Emergency/Trauma', 'Urology','ObstetricsandGynecology','Psychiatry','Pulmonology ','Nephrology','Radiologist']\n",
    "\n",
    "low_frequency = ['Surgery-PlasticwithinHeadandNeck','Psychiatry-Addictive','Proctology','Dermatology','SportsMedicine','Speech','Perinatology', 'Neurophysiology','Resident','Pediatrics-Hematology-Oncology','Pediatrics-EmergencyMedicine','Dentistry','DCPTEAM','Psychiatry-Child/Adolescent', 'Pediatrics-Pulmonology','Surgery-Pediatric','AllergyandImmunology','Pediatrics-Neurology','Anesthesiology','Pathology','Cardiology-Pediatric', 'Endocrinology-Metabolism','PhysicianNotFound','Surgery-Colon&Rectal','OutreachServices', 'Surgery-Maxillofacial','Rheumatology','Anesthesiology-Pediatric','Obstetrics','Obsterics&Gynecology-GynecologicOnco']\n",
    "\n",
    "pediatrics = ['Pediatrics','Pediatrics-CriticalCare','Pediatrics-EmergencyMedicine','Pediatrics-Endocrinology','Pediatrics-Hematology-Oncology', 'Pediatrics-Neurology','Pediatrics-Pulmonology', 'Anesthesiology-Pediatric', 'Cardiology-Pediatric', 'Surgery-Pediatric']\n",
    "\n",
    "psychic = ['Psychiatry-Addictive', 'Psychology', 'Psychiatry',  'Psychiatry-Child/Adolescent', 'PhysicalMedicineandRehabilitation', 'Osteopath']\n",
    "\n",
    "neurology = ['Neurology', 'Surgery-Neuro',  'Pediatrics-Neurology', 'Neurophysiology']\n",
    "\n",
    "surgery = ['Surgeon', 'Surgery-Cardiovascular', 'Surgery-Cardiovascular/Thoracic', 'Surgery-Colon&Rectal', 'Surgery-General', 'Surgery-Maxillofacial', 'Surgery-Plastic', 'Surgery-PlasticwithinHeadandNeck',  'Surgery-Thoracic', 'Surgery-Vascular', 'SurgicalSpecialty', 'Podiatry']\n",
    "             \n",
    "ungrouped = ['Endocrinology','Gastroenterology','Gynecology','Hematology','Hematology/Oncology','Hospitalist','InfectiousDiseases', 'Oncology','Ophthalmology','Otolaryngology','Pulmonology','Radiology']\n",
    "\n",
    "\n",
    "missing = ['?']\n",
    "\n",
    "colMedical = []\n",
    "\n",
    "for val in data['medical_specialty'] :\n",
    "    if val in pediatrics :\n",
    "        colMedical.append('pediatrics')\n",
    "    elif val in psychic :\n",
    "        colMedical.append('psychic')\n",
    "    elif val in neurology :\n",
    "        colMedical.append('neurology')\n",
    "    elif val in surgery :\n",
    "        colMedical.append('surgery')\n",
    "    elif val in high_frequency :\n",
    "        colMedical.append('high_freq')\n",
    "    elif val in low_frequency :\n",
    "        colMedical.append('low_freq')\n",
    "    elif val in ungrouped :\n",
    "        colMedical.append('ungrouped')\n",
    "    elif val in missing :\n",
    "        colMedical.append('missing')\n",
    "\n",
    "data['medical_specialty'] = colMedical"
   ]
  },
  {
   "cell_type": "code",
   "execution_count": 26,
   "id": "7a63991f",
   "metadata": {},
   "outputs": [],
   "source": [
    "diag_1 = Counter(list(data['diag_1'])).most_common(1)[0][0]\n",
    "diag_2 = Counter(list(data['diag_2'])).most_common(1)[0][0]\n",
    "diag_3 = Counter(list(data['diag_3'])).most_common(1)[0][0]\n",
    "\n",
    "data['diag_1'] = data['diag_1'].apply(lambda x : diag_1 if x == '?' else x)\n",
    "data['diag_2'] = data['diag_1'].apply(lambda x : diag_2 if x == '?' else x)\n",
    "data['diag_3'] = data['diag_3'].apply(lambda x : diag_3 if x == '?' else x)"
   ]
  },
  {
   "cell_type": "markdown",
   "id": "3f1d53aa",
   "metadata": {},
   "source": [
    "Read diagnoses based off of [AAPC codes](https://www.aapc.com/codes/icd9-codes-range/)."
   ]
  },
  {
   "cell_type": "code",
   "execution_count": 27,
   "id": "fc06dd70",
   "metadata": {},
   "outputs": [],
   "source": [
    "def get_diag(diag):\n",
    "    if '?' in diag: return 'unknown'\n",
    "    if 'V' in diag:  return 'health_contact'\n",
    "    if 'E' in diag: return 'injury_poisoning'\n",
    "    diag_no = int(float(diag))\n",
    "    if diag_no in range(0, 140): return 'infectious'\n",
    "    if diag_no in range(140, 240): return 'neoplasms'\n",
    "    if diag_no == 250: return 'diabetes'\n",
    "    if diag_no == 249: return 'secondary_diabetes'\n",
    "    if diag_no in range(251, 260): return 'endocrine'\n",
    "    if diag_no in range(240, 280): return 'long_term'\n",
    "    if diag_no in range(280, 290): return 'blood'\n",
    "    if diag_no in range(290, 320): return 'mental'\n",
    "    if diag_no in range(320, 390): return 'nervous'\n",
    "    if diag_no in range(390, 460): return 'respiratory'\n",
    "    if diag_no in range(520, 580): return 'digestive'\n",
    "    if diag_no in range(580, 630): return 'genitourinary'\n",
    "    if diag_no in range(630, 680): return 'birth'\n",
    "    if diag_no in range(680, 710): return 'skin'\n",
    "    if diag_no in range(710, 740): return 'musculoskeletal'\n",
    "    if diag_no in range(740, 760): return 'congenital'\n",
    "    if diag_no in range(760, 780): return 'prenital'\n",
    "    if diag_no in range(780, 800): return 'symptoms'\n",
    "    if diag_no in range(800, 1000): return 'injury_poisoning'\n",
    "    return 'other'"
   ]
  },
  {
   "cell_type": "code",
   "execution_count": 28,
   "id": "d6055986",
   "metadata": {},
   "outputs": [],
   "source": [
    "data['diag_1'] = data['diag_1'].apply(get_diag)\n",
    "data['diag_2'] = data['diag_2'].apply(get_diag)\n",
    "data['diag_3'] = data['diag_3'].apply(get_diag)"
   ]
  },
  {
   "cell_type": "code",
   "execution_count": 29,
   "id": "80e34359",
   "metadata": {},
   "outputs": [],
   "source": [
    "data['readmitted'] = data['readmitted'].apply(lambda x : 0 if (x == '>30' or x == 'NO') else 1)\n",
    "data = data.reset_index()"
   ]
  },
  {
   "cell_type": "code",
   "execution_count": null,
   "id": "6d7b2df2",
   "metadata": {},
   "outputs": [],
   "source": []
  },
  {
   "cell_type": "code",
   "execution_count": null,
   "id": "4157e586",
   "metadata": {},
   "outputs": [],
   "source": []
  },
  {
   "cell_type": "code",
   "execution_count": null,
   "id": "07795b92",
   "metadata": {},
   "outputs": [],
   "source": []
  },
  {
   "cell_type": "code",
   "execution_count": 30,
   "id": "9b28fd69",
   "metadata": {},
   "outputs": [],
   "source": [
    "def getValuesByGroup(tbl, group):\n",
    "    grouped = tbl.groupby(group)\n",
    "    groups = np.unique(tbl[group])\n",
    "    output = {}\n",
    "    for g in groups:\n",
    "        output[g] = grouped.get_group(g)\n",
    "    return output"
   ]
  },
  {
   "cell_type": "code",
   "execution_count": 31,
   "id": "5e3fdac9",
   "metadata": {},
   "outputs": [
    {
     "name": "stdout",
     "output_type": "stream",
     "text": [
      "0.4797393929763229 ? 0.09725219856328318\n",
      "0.03225806451612903 BC 0.05914918414918415\n",
      "0.001430160495788972 CH 0.07692307692307693\n",
      "0.01668520578420467 CM 0.07871064467766117\n",
      "0.019863340219291276 CP 0.06294058408862034\n",
      "0.005402828539647227 DM 0.09090909090909091\n",
      "0.0 FR 0.0\n",
      "0.0441760686477038 HM 0.06911984087518648\n",
      "0.29477196885428253 MC 0.09086901146272167\n",
      "0.027490862863499128 MD 0.07874374146563495\n",
      "0.0003178134435086604 MP 0.0625\n",
      "0.00794533608771651 OG 0.07598784194528875\n",
      "0.0004767201652629906 OT 0.046153846153846156\n",
      "0.004131574765612585 PO 0.056155507559395246\n",
      "0.0003178134435086604 SI 0.05405405405405406\n",
      "0.041792467821388846 SP 0.07857783089333732\n",
      "0.02240584776736056 UN 0.07503991484832358\n",
      "0.0007945336087716511 WC 0.042735042735042736\n"
     ]
    }
   ],
   "source": [
    "pc = getValuesByGroup(data, 'payer_code')\n",
    "readmitted = len(np.where(data['readmitted'] == 1)[0])\n",
    "for k in pc:\n",
    "    print(len(np.where(pc[k]['readmitted'] == 1)[0]) / readmitted, k, len(np.where(pc[k]['readmitted'] == 1)[0])/len(pc[k]))"
   ]
  },
  {
   "cell_type": "code",
   "execution_count": null,
   "id": "fce1f14e",
   "metadata": {},
   "outputs": [],
   "source": [
    "data.groupby(by=[\"A1Cresult\"]).count()"
   ]
  },
  {
   "cell_type": "code",
   "execution_count": null,
   "id": "aadedbde",
   "metadata": {},
   "outputs": [],
   "source": []
  },
  {
   "cell_type": "code",
   "execution_count": null,
   "id": "6fb20072",
   "metadata": {},
   "outputs": [],
   "source": []
  },
  {
   "cell_type": "code",
   "execution_count": null,
   "id": "7aec1270",
   "metadata": {},
   "outputs": [],
   "source": []
  },
  {
   "cell_type": "code",
   "execution_count": null,
   "id": "0c3c37e3",
   "metadata": {},
   "outputs": [],
   "source": []
  },
  {
   "cell_type": "code",
   "execution_count": null,
   "id": "f0dfe047",
   "metadata": {},
   "outputs": [],
   "source": []
  },
  {
   "cell_type": "code",
   "execution_count": null,
   "id": "76e019d7",
   "metadata": {},
   "outputs": [],
   "source": []
  },
  {
   "cell_type": "code",
   "execution_count": null,
   "id": "8bcbc197",
   "metadata": {},
   "outputs": [],
   "source": []
  },
  {
   "cell_type": "code",
   "execution_count": null,
   "id": "a1f5c3c5",
   "metadata": {},
   "outputs": [],
   "source": []
  },
  {
   "cell_type": "code",
   "execution_count": null,
   "id": "20aa1e92",
   "metadata": {},
   "outputs": [],
   "source": []
  },
  {
   "cell_type": "code",
   "execution_count": null,
   "id": "96dbbe6d",
   "metadata": {},
   "outputs": [],
   "source": []
  },
  {
   "cell_type": "code",
   "execution_count": null,
   "id": "a1ef3770",
   "metadata": {},
   "outputs": [],
   "source": []
  },
  {
   "cell_type": "code",
   "execution_count": null,
   "id": "e2929fe4",
   "metadata": {},
   "outputs": [],
   "source": []
  },
  {
   "cell_type": "code",
   "execution_count": null,
   "id": "3f1d819b",
   "metadata": {},
   "outputs": [],
   "source": []
  }
 ],
 "metadata": {
  "kernelspec": {
   "display_name": "Python 3 (ipykernel)",
   "language": "python",
   "name": "python3"
  },
  "language_info": {
   "codemirror_mode": {
    "name": "ipython",
    "version": 3
   },
   "file_extension": ".py",
   "mimetype": "text/x-python",
   "name": "python",
   "nbconvert_exporter": "python",
   "pygments_lexer": "ipython3",
   "version": "3.9.7"
  }
 },
 "nbformat": 4,
 "nbformat_minor": 5
}
